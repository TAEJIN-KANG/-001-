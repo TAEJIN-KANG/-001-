{
  "nbformat": 4,
  "nbformat_minor": 0,
  "metadata": {
    "colab": {
      "provenance": [],
      "authorship_tag": "ABX9TyPdGseeHCsDMvbOoRxcJK6M",
      "include_colab_link": true
    },
    "kernelspec": {
      "name": "python3",
      "display_name": "Python 3"
    },
    "language_info": {
      "name": "python"
    }
  },
  "cells": [
    {
      "cell_type": "markdown",
      "metadata": {
        "id": "view-in-github",
        "colab_type": "text"
      },
      "source": [
        "<a href=\"https://colab.research.google.com/github/TAEJIN-KANG/-001-/blob/main/%EC%9D%B8%EA%B3%B5%EC%A7%80%EB%8A%A5%ED%94%84%EB%A1%9C%EA%B7%B8%EB%9E%98%EB%B0%8D_4%EC%A3%BC%EC%B0%A8_%EA%B3%BC%EC%A0%9C_20248191_%EA%B0%95%ED%83%9C%EC%A7%84.ipynb\" target=\"_parent\"><img src=\"https://colab.research.google.com/assets/colab-badge.svg\" alt=\"Open In Colab\"/></a>"
      ]
    },
    {
      "cell_type": "code",
      "execution_count": null,
      "metadata": {
        "colab": {
          "base_uri": "https://localhost:8080/"
        },
        "id": "T58hgF7xXlfm",
        "outputId": "d3273b70-41a0-4497-fd7f-d32876a933cf"
      },
      "outputs": [
        {
          "output_type": "stream",
          "name": "stdout",
          "text": [
            "로또 번호:\n",
            " [[ 3 38 34 29  2 14]\n",
            " [32 25 36 18  3 23]\n",
            " [ 6 21 39  1 24  8]]\n"
          ]
        }
      ],
      "source": [
        "import random\n",
        "import numpy as np\n",
        "\n",
        "# 랜덤 씨드 값 설정 사용X\n",
        "#random.seed(85)\n",
        "\n",
        "# 로또 번호를 저장할 리스트\n",
        "lotto_numbers = []\n",
        "\n",
        "# 3회 반복하여 로또 번호 생성\n",
        "for _ in range(3):\n",
        "    # 1부터 45까지의 숫자 생성\n",
        "    numbers = list(range(1, 46))\n",
        "\n",
        "    # 랜덤하게 섞기\n",
        "    random.shuffle(numbers)\n",
        "\n",
        "    # 첫 6개의 숫자 슬라이싱하여 리스트에 추가\n",
        "    lotto_numbers.append(numbers[:6])\n",
        "\n",
        "# 2차원 배열로 변환\n",
        "lotto = np.array(lotto_numbers)\n",
        "\n",
        "# 결과 출력\n",
        "print(\"로또 번호:\\n\", lotto)"
      ]
    },
    {
      "cell_type": "code",
      "source": [
        "import numpy as np\n",
        "# 3차원 배열의 크기를 지정합니다.\n",
        "shape = (3, 3, 6)\n",
        "# 3차원 배열을 생성합니다.\n",
        "arr = np.random.randint(0, 20, shape)\n",
        "# 3차원 배열을 출력합니다.\n",
        "print(arr)"
      ],
      "metadata": {
        "colab": {
          "base_uri": "https://localhost:8080/"
        },
        "id": "7Lcd-fFOqGCL",
        "outputId": "0d18fd43-badf-4fb2-e1e0-607c6986995f"
      },
      "execution_count": null,
      "outputs": [
        {
          "output_type": "stream",
          "name": "stdout",
          "text": [
            "[[[ 8 14 15  1  1 17]\n",
            "  [ 3 12 16  5  9 19]\n",
            "  [ 9 15  5  1 12 19]]\n",
            "\n",
            " [[12 16  4 19 16 18]\n",
            "  [15  5  3 11  1  9]\n",
            "  [ 5 10  8  5  8 17]]\n",
            "\n",
            " [[ 4 17 14  2  0 18]\n",
            "  [15 15  8  9  8  0]\n",
            "  [11  6  4  8  3  7]]]\n"
          ]
        }
      ]
    },
    {
      "cell_type": "code",
      "source": [
        "import numpy as np\n",
        "# 2차원 배열의 크기를 지정합니다.\n",
        "shape = (5, 6)\n",
        "# 2차원 배열을 생성합니다.\n",
        "arr = np.random.randint(0, 100, shape)\n",
        "# 2차원 배열을 출력합니다.\n",
        "print(arr)"
      ],
      "metadata": {
        "colab": {
          "base_uri": "https://localhost:8080/"
        },
        "id": "I0ETW3jjqjei",
        "outputId": "c8ca4499-d393-41ab-95aa-b8164e120450"
      },
      "execution_count": null,
      "outputs": [
        {
          "output_type": "stream",
          "name": "stdout",
          "text": [
            "[[70 58 82 68 39 68]\n",
            " [91 67 20 35  1 53]\n",
            " [51 41 43 88 80 72]\n",
            " [43 41 69 65 72 91]\n",
            " [89 89 26 13 59 24]]\n"
          ]
        }
      ]
    },
    {
      "cell_type": "code",
      "source": [
        "import numpy as np\n",
        "\n",
        "# 0부터 47까지의 값을 생성\n",
        "temp = np.arange(48)\n",
        "\n",
        "# 랜덤하게 섞기\n",
        "np.random.shuffle(temp)\n",
        "\n",
        "# 3차원 배열로 변환 (4, 3, 4)\n",
        "array_3d = temp.reshape((4, 3, 4))\n",
        "\n",
        "# 결과 출력\n",
        "print(\"3차원 배열:\\n\", array_3d)"
      ],
      "metadata": {
        "colab": {
          "base_uri": "https://localhost:8080/"
        },
        "id": "yHrWOz-7r9CT",
        "outputId": "b9a7d326-73b2-4c61-9144-78ace414fa1d"
      },
      "execution_count": null,
      "outputs": [
        {
          "output_type": "stream",
          "name": "stdout",
          "text": [
            "3차원 배열:\n",
            " [[[18  8 34 21]\n",
            "  [22 39 45 28]\n",
            "  [47 13 16 40]]\n",
            "\n",
            " [[27  3 36 46]\n",
            "  [24 31  9 12]\n",
            "  [25 32 37 43]]\n",
            "\n",
            " [[17 41 19 15]\n",
            "  [ 6 30 26 42]\n",
            "  [ 4 10  0 35]]\n",
            "\n",
            " [[20 14  1 29]\n",
            "  [23  2  5 38]\n",
            "  [11 33  7 44]]]\n"
          ]
        }
      ]
    },
    {
      "cell_type": "code",
      "source": [
        "import numpy as np\n",
        "\n",
        "# 0부터 47까지의 값을 생성\n",
        "temp = np.arange(48)\n",
        "\n",
        "# 랜덤하게 섞기\n",
        "np.random.shuffle(temp)\n",
        "\n",
        "# 2차원 배열로 변환 (6, 8)\n",
        "array_2d = temp.reshape((6, 8))\n",
        "\n",
        "# 결과 출력\n",
        "print(\"2차원 배열:\\n\", array_2d)"
      ],
      "metadata": {
        "colab": {
          "base_uri": "https://localhost:8080/"
        },
        "id": "bjgd-V55sp3X",
        "outputId": "b8ae9a45-04c4-4840-9d7d-67925f0c713f"
      },
      "execution_count": null,
      "outputs": [
        {
          "output_type": "stream",
          "name": "stdout",
          "text": [
            "2차원 배열:\n",
            " [[ 4 28  2 12 25 22 29 39]\n",
            " [17 14 13 32  9 27 31 37]\n",
            " [36 47 20 43 11 30 35  0]\n",
            " [ 1 41  3 45 18 15 38  6]\n",
            " [ 8 21 19 23 33 16 24 46]\n",
            " [26 44  7 10  5 42 34 40]]\n"
          ]
        }
      ]
    }
  ]
}